{
 "cells": [
  {
   "cell_type": "code",
   "execution_count": null,
   "metadata": {},
   "outputs": [],
   "source": [
    "from sage_combinat_widgets.grid_view_widget import *\n",
    "from sage.graphs.generators.families import AztecDiamondGraph\n",
    "az = AztecDiamondGraph(4) "
   ]
  },
  {
   "cell_type": "code",
   "execution_count": null,
   "metadata": {},
   "outputs": [],
   "source": [
    "w = GridViewWidget(az, cell_widget_classes=[ButtonCell], blank_widget_class=BlankButton)\n",
    "w"
   ]
  },
  {
   "cell_type": "code",
   "execution_count": null,
   "metadata": {},
   "outputs": [],
   "source": [
    "%%html\n",
    "<style>\n",
    ".b0 {}\n",
    ".b1 {background-color: green}\n",
    ".b2 {background-color: blue}\n",
    ".b3 {background-color: red}\n",
    ".b4 {background-color: yellow}\n",
    "</style>"
   ]
  },
  {
   "cell_type": "code",
   "execution_count": null,
   "metadata": {},
   "outputs": [],
   "source": [
    "w.update_style(css_classes=['b0', 'b1', 'b2', 'b3', 'b4'], css_class_index=lambda x:(x[0]+x[1])%5)"
   ]
  }
 ],
 "metadata": {
  "kernelspec": {
   "display_name": "Python 3",
   "language": "python",
   "name": "python3"
  },
  "language_info": {
   "codemirror_mode": {
    "name": "ipython",
    "version": 3
   },
   "file_extension": ".py",
   "mimetype": "text/x-python",
   "name": "python",
   "nbconvert_exporter": "python",
   "pygments_lexer": "ipython3",
   "version": "3.7.3"
  }
 },
 "nbformat": 4,
 "nbformat_minor": 2
}
