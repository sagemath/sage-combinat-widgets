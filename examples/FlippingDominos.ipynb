{
 "cells": [
  {
   "cell_type": "markdown",
   "metadata": {},
   "source": [
    "# Flipping Dominos\n",
    "_Based on an idea by Vincent Delecroix and Thierry Monteil_"
   ]
  },
  {
   "cell_type": "markdown",
   "metadata": {},
   "source": [
    "### Intention\n",
    "We construct an aztec diamond with a perfect matching ie colored dominos.\n",
    "When we select 2 neighboring dominos with the mouse, they flip."
   ]
  },
  {
   "cell_type": "code",
   "execution_count": null,
   "metadata": {},
   "outputs": [],
   "source": [
    "%%html\n",
    "<style>\n",
    ".b0 {}\n",
    ".b1 {background-color: green}\n",
    ".b2 {background-color: blue}\n",
    ".b3 {background-color: red}\n",
    ".b4 {background-color: yellow}\n",
    "</style>"
   ]
  },
  {
   "cell_type": "code",
   "execution_count": null,
   "metadata": {},
   "outputs": [],
   "source": [
    "from dominos.flipping_dominos import FlippingAztecDiamond, FlippingDominosWidget"
   ]
  },
  {
   "cell_type": "code",
   "execution_count": null,
   "metadata": {},
   "outputs": [],
   "source": [
    "ORDER = 5\n",
    "g = FlippingAztecDiamond(ORDER)\n",
    "m = []\n",
    "verts = sorted(g.vertices())\n",
    "count = 0\n",
    "for v in verts:\n",
    "    if not count%2:\n",
    "        m.append((v, (v[0],v[1]+1)))\n",
    "    count += 1\n",
    "g.apply_matching(m)"
   ]
  },
  {
   "cell_type": "code",
   "execution_count": null,
   "metadata": {},
   "outputs": [],
   "source": [
    "w = FlippingDominosWidget(g, css_classes=['b0', 'b1', 'b2', 'b3', 'b4'])\n",
    "w"
   ]
  },
  {
   "cell_type": "markdown",
   "metadata": {},
   "source": [
    "-> Try to press neighboring buttons"
   ]
  },
  {
   "cell_type": "markdown",
   "metadata": {},
   "source": [
    "## An example algorithm"
   ]
  },
  {
   "cell_type": "code",
   "execution_count": null,
   "metadata": {},
   "outputs": [],
   "source": [
    "for k in w.dominos:\n",
    "    if k[0] == 4:\n",
    "        d1, d2 = w.value.domino_for_position(k), w.value.domino_for_position((k[0]+1, k[1]))\n",
    "        w.value.flip(d1, d2)\n",
    "w.update()"
   ]
  },
  {
   "cell_type": "code",
   "execution_count": null,
   "metadata": {},
   "outputs": [],
   "source": [
    "for k in w.dominos:\n",
    "    if k[0] == 4 and k[1] % 2 and k[1] < 9:\n",
    "        d1, d2 = w.value.domino_for_position(k), w.value.domino_for_position((k[0], k[1]+1))\n",
    "        #print(d1, d2, d1.direction, d2.direction)\n",
    "        w.value.flip(d1, d2)\n",
    "w.update()"
   ]
  },
  {
   "cell_type": "code",
   "execution_count": null,
   "metadata": {},
   "outputs": [],
   "source": [
    "for k in w.dominos:\n",
    "    if k[0] == 3:\n",
    "        d1, d2 = w.value.domino_for_position(k), w.value.domino_for_position((k[0]+1, k[1]))\n",
    "        w.value.flip(d1, d2)\n",
    "    if k[0] == 6:\n",
    "        d2, d1 = w.value.domino_for_position(k), w.value.domino_for_position((k[0]-1, k[1]))\n",
    "        w.value.flip(d1, d2)\n",
    "w.update()"
   ]
  },
  {
   "cell_type": "code",
   "execution_count": null,
   "metadata": {},
   "outputs": [],
   "source": [
    "for k in w.dominos:\n",
    "    if (k[0] == 3 or k[0] == 5) and not k[1] % 2 and k[1] < 8:\n",
    "        d1, d2 = w.value.domino_for_position(k), w.value.domino_for_position((k[0], k[1]+1))\n",
    "        w.value.flip(d1, d2)\n",
    "w.update()"
   ]
  },
  {
   "cell_type": "code",
   "execution_count": null,
   "metadata": {},
   "outputs": [],
   "source": [
    "for k in w.dominos:\n",
    "    if k[0] == 2:\n",
    "        d1, d2 = w.value.domino_for_position(k), w.value.domino_for_position((k[0]+1, k[1]))\n",
    "        w.value.flip(d1, d2)\n",
    "    if k[0] == 7:\n",
    "        d2, d1 = w.value.domino_for_position(k), w.value.domino_for_position((k[0]-1, k[1]))\n",
    "        w.value.flip(d1, d2)\n",
    "w.update()"
   ]
  },
  {
   "cell_type": "code",
   "execution_count": null,
   "metadata": {},
   "outputs": [],
   "source": [
    "for k in w.dominos:\n",
    "    if (k[0] == 2 or k[0] == 6) and k[1] % 2 and k[1] < 7:\n",
    "        d1, d2 = w.value.domino_for_position(k), w.value.domino_for_position((k[0], k[1]+1))\n",
    "        w.value.flip(d1, d2)\n",
    "w.update()"
   ]
  },
  {
   "cell_type": "code",
   "execution_count": null,
   "metadata": {},
   "outputs": [],
   "source": [
    "for k in w.dominos:\n",
    "    if k[0] == 1:\n",
    "        d1, d2 = w.value.domino_for_position(k), w.value.domino_for_position((k[0]+1, k[1]))\n",
    "        w.value.flip(d1, d2)\n",
    "    if k[0] == 8:\n",
    "        d2, d1 = w.value.domino_for_position(k), w.value.domino_for_position((k[0]-1, k[1]))\n",
    "        w.value.flip(d1, d2)\n",
    "w.update()"
   ]
  },
  {
   "cell_type": "code",
   "execution_count": null,
   "metadata": {},
   "outputs": [],
   "source": [
    "for k in w.dominos:\n",
    "    if (k[0] == 1 or k[0] == 7) and not k[1] % 2 and k[1] < 6:\n",
    "        d1, d2 = w.value.domino_for_position(k), w.value.domino_for_position((k[0], k[1]+1))\n",
    "        w.value.flip(d1, d2)\n",
    "w.update()"
   ]
  },
  {
   "cell_type": "code",
   "execution_count": null,
   "metadata": {},
   "outputs": [],
   "source": [
    "for k in w.dominos:\n",
    "    if k[0] == 0:\n",
    "        d1, d2 = w.value.domino_for_position(k), w.value.domino_for_position((k[0]+1, k[1]))\n",
    "        w.value.flip(d1, d2)\n",
    "    if k[0] == 9:\n",
    "        d2, d1 = w.value.domino_for_position(k), w.value.domino_for_position((k[0]-1, k[1]))\n",
    "        w.value.flip(d1, d2)\n",
    "w.update()"
   ]
  },
  {
   "cell_type": "code",
   "execution_count": null,
   "metadata": {},
   "outputs": [],
   "source": [
    "for k in w.dominos:\n",
    "    if k[0] == 4:\n",
    "        d1, d2 = w.value.domino_for_position(k), w.value.domino_for_position((k[0]+1, k[1]))\n",
    "        if d1.direction == 'horizontal':\n",
    "            w.value.flip(d1, d2)\n",
    "w.update()"
   ]
  },
  {
   "cell_type": "code",
   "execution_count": null,
   "metadata": {},
   "outputs": [],
   "source": [
    "for k in w.dominos:\n",
    "    if k[0] == 4 and k[1] % 2 and k[1] > 2 and k[1] < 7:\n",
    "        d1, d2 = w.value.domino_for_position(k), w.value.domino_for_position((k[0], k[1]+1))\n",
    "        w.value.flip(d1, d2)\n",
    "w.update()"
   ]
  },
  {
   "cell_type": "code",
   "execution_count": null,
   "metadata": {},
   "outputs": [],
   "source": [
    "for k in w.dominos:\n",
    "    if k[0] == 3 or k[0] == 5:\n",
    "        d1, d2 = w.value.domino_for_position(k), w.value.domino_for_position((k[0]+1, k[1]))\n",
    "        if d1.direction == 'horizontal':\n",
    "            w.value.flip(d1, d2)\n",
    "w.update()"
   ]
  },
  {
   "cell_type": "code",
   "execution_count": null,
   "metadata": {},
   "outputs": [],
   "source": [
    "for k in w.dominos:\n",
    "    if (k[0] == 3 or k[0] == 5) and not k[1] % 2 and k[1] > 3 and k[1] < 6:\n",
    "        d1, d2 = w.value.domino_for_position(k), w.value.domino_for_position((k[0], k[1]+1))\n",
    "        w.value.flip(d1, d2)\n",
    "w.update()"
   ]
  },
  {
   "cell_type": "code",
   "execution_count": null,
   "metadata": {},
   "outputs": [],
   "source": [
    "for k in w.dominos:\n",
    "    if k[1] == 4:\n",
    "        d1, d2 = w.value.domino_for_position(k), w.value.domino_for_position((k[0]+1, k[1]))\n",
    "        if d1.direction == 'horizontal':\n",
    "            w.value.flip(d1, d2)\n",
    "w.update()"
   ]
  }
 ],
 "metadata": {
  "kernelspec": {
   "display_name": "SageMath 8.9.rc0",
   "language": "sage",
   "name": "sagemath"
  },
  "language_info": {
   "codemirror_mode": {
    "name": "ipython",
    "version": 3
   },
   "file_extension": ".py",
   "mimetype": "text/x-python",
   "name": "python",
   "nbconvert_exporter": "python",
   "pygments_lexer": "ipython3",
   "version": "3.7.3"
  }
 },
 "nbformat": 4,
 "nbformat_minor": 4
}
