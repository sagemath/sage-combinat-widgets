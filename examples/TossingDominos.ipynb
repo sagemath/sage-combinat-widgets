{
 "cells": [
  {
   "cell_type": "markdown",
   "metadata": {},
   "source": [
    "# Tossing Dominos\n",
    "_Following http://images.math.cnrs.fr/Pavages-aleatoires-par-touillage?lang=fr_"
   ]
  },
  {
   "cell_type": "code",
   "execution_count": null,
   "metadata": {},
   "outputs": [],
   "source": [
    "from sage.graphs.generators.families import AztecDiamondGraph\n",
    "class OrderedDomino:\n",
    "    def __init__(self, first, second):\n",
    "        self.first = first\n",
    "        self.second = second\n",
    "        if first[0] == second[0]:\n",
    "            self.direction = 'horizontal'\n",
    "        else:\n",
    "            self.direction = 'vertical'\n",
    "    def parity(self, i):\n",
    "        return (self.first[0] % 2 + self.first[1] % 2 + i) % 2\n",
    "    def __repr__(self):\n",
    "        return \"OrderedDomino from %s to %s\" % (self.first, self.second)"
   ]
  },
  {
   "cell_type": "code",
   "execution_count": null,
   "metadata": {},
   "outputs": [],
   "source": [
    "def apply_matching(m, size, n):\n",
    "    matching = {}\n",
    "    shift_val = size - n\n",
    "    def shift(t):\n",
    "        return (t[0] + shift_val, t[1] + shift_val)\n",
    "    for first, second in m:\n",
    "        if first[0] < second[0] or first[1] < second[1]:\n",
    "            d = OrderedDomino(shift(first), shift(second))\n",
    "        else:\n",
    "            d = OrderedDomino(shift(second), shift(first))\n",
    "        matching[shift(first)] = d\n",
    "        matching[shift(second)] = d\n",
    "    return matching\n",
    "def figure(size):\n",
    "    g = AztecDiamondGraph(size)\n",
    "    m = (((0,0),(0,1)), ((1,0), (1,1)))\n",
    "    return g, m, apply_matching(m, size, 1)\n",
    "def parity(pos):\n",
    "    return (pos[0]%2 + pos[1]%2)%2\n",
    "def similar_position(pos, ref):\n",
    "    return ((pos[0]%2 + pos[1]%2)%2 == (ref[0]%2 + ref[1]%2)%2)"
   ]
  },
  {
   "cell_type": "code",
   "execution_count": null,
   "metadata": {},
   "outputs": [],
   "source": [
    "def tossing(g, size, n, matching):\n",
    "    verts = AztecDiamondGraph(n).vertices()\n",
    "    shift_val = size - n\n",
    "    def shift(t):\n",
    "        return (t[0] + shift_val, t[1] + shift_val)\n",
    "    shifted_verts = [shift(v) for v in verts]\n",
    "    ref_corner = shift((0, min([v[1] for v in verts if v[0]==0])))\n",
    "    new_matching = {}\n",
    "    for v in shifted_verts:\n",
    "        # is it an \"active cell\"?\n",
    "        if not similar_position(v, ref_corner):\n",
    "            continue\n",
    "        bottom_left = (v[0]+1, v[1])\n",
    "        if not bottom_left in shifted_verts:\n",
    "            continue\n",
    "        top_right = (v[0], v[1]+1)\n",
    "        if not top_right in shifted_verts:\n",
    "            continue\n",
    "        bottom_right = (v[0]+1, v[1]+1)\n",
    "        if not bottom_right in shifted_verts:\n",
    "            continue\n",
    "        if v in matching.keys() and matching[v].first == v and \\\n",
    "        ((matching[v].direction == 'horizontal' and bottom_left in matching.keys() \\\n",
    "          and matching[bottom_left].first == bottom_left and matching[bottom_left].second == bottom_right) \\\n",
    "            or (matching[v].direction == 'vertical' and top_right in matching.keys() \\\n",
    "                and matching[top_right].first == top_right and matching[top_right].second == bottom_right)):\n",
    "            # Ignore both dominos\n",
    "            pass\n",
    "        elif v in matching.keys() and matching[v].first == v:\n",
    "            # Slide\n",
    "            if matching[v].direction == 'horizontal':\n",
    "                new_matching[bottom_left] = new_matching[bottom_right] = OrderedDomino(\n",
    "                    bottom_left, bottom_right)\n",
    "            else:\n",
    "                new_matching[top_right] = new_matching[bottom_right] = OrderedDomino(\n",
    "                    top_right, bottom_right)    \n",
    "        elif bottom_left in matching.keys() and matching[bottom_left].first == bottom_left \\\n",
    "        and matching[bottom_left].direction == 'horizontal':\n",
    "            # Slide\n",
    "            new_matching[v] = new_matching[top_right] = OrderedDomino(v, top_right)\n",
    "        elif top_right in matching.keys() and matching[top_right].first == top_right \\\n",
    "        and matching[top_right].direction == 'vertical':\n",
    "            # Slide\n",
    "            new_matching[v] = new_matching[bottom_left] = OrderedDomino(v, bottom_left)\n",
    "        else:\n",
    "            # Create 2 dominos\n",
    "            i = randint(0,1)\n",
    "            if i == 0:\n",
    "                new_matching[v] = new_matching[top_right] = OrderedDomino(v, top_right)\n",
    "                new_matching[bottom_left] = new_matching[bottom_right] = OrderedDomino(bottom_left, bottom_right)\n",
    "            else:\n",
    "                new_matching[v] = new_matching[bottom_left] = OrderedDomino(v, bottom_left)\n",
    "                new_matching[top_right] = new_matching[bottom_right] = OrderedDomino(top_right, bottom_right)\n",
    "    return new_matching"
   ]
  },
  {
   "cell_type": "code",
   "execution_count": null,
   "metadata": {},
   "outputs": [],
   "source": [
    "def make_cell_widget_class_index(matching, n):\n",
    "    def cell_widget_class_index(pos):\n",
    "        def calc_index_for_domino(d, n):\n",
    "            if d.direction == 'horizontal':\n",
    "                if not d.parity(n):\n",
    "                    return 1\n",
    "                else:\n",
    "                    return 2\n",
    "            else:\n",
    "                if not d.parity(n):\n",
    "                    return 3\n",
    "                else:\n",
    "                    return 4\n",
    "        if pos in matching.keys():\n",
    "            d = matching[pos]\n",
    "            return calc_index_for_domino(d, n)  \n",
    "        return 0\n",
    "    return cell_widget_class_index"
   ]
  },
  {
   "cell_type": "code",
   "execution_count": null,
   "metadata": {},
   "outputs": [],
   "source": [
    "%%html\n",
    "<style>\n",
    ".b0 {}\n",
    ".b1 {background-color: green}\n",
    ".b2 {background-color: blue}\n",
    ".b3 {background-color: red}\n",
    ".b4 {background-color: yellow}\n",
    "</style>"
   ]
  },
  {
   "cell_type": "code",
   "execution_count": null,
   "metadata": {},
   "outputs": [],
   "source": [
    "from sage_combinat_widgets.grid_view_widget import GridViewWidget, BlankButton, styled_push_button\n",
    "from ipywidgets import Layout\n",
    "smallblyt = Layout(width='12px',height='12px', margin='0', padding='0')\n",
    "Button0 = styled_push_button(disabled=True)\n",
    "Button1 = styled_push_button(disabled=True, style_name='b1')\n",
    "Button2 = styled_push_button(disabled=True, style_name='b2')\n",
    "Button3 = styled_push_button(disabled=True, style_name='b3')\n",
    "Button4 = styled_push_button(disabled=True, style_name='b4')"
   ]
  },
  {
   "cell_type": "code",
   "execution_count": null,
   "metadata": {},
   "outputs": [],
   "source": [
    "ORDER = 12\n",
    "g, m, md = figure(ORDER)\n",
    "w = GridViewWidget(g, cell_layout=smallblyt, \n",
    "                   cell_widget_classes=[Button0, Button1, Button2, Button3, Button4],\n",
    "                   css_classes=['b0', 'b1', 'b2', 'b3', 'b4'],\n",
    "                   css_class_index=make_cell_widget_class_index(md, ORDER),\n",
    "                   cell_widget_class_index=make_cell_widget_class_index(md, ORDER), \n",
    "                   blank_widget_class=BlankButton)\n",
    "w"
   ]
  },
  {
   "cell_type": "code",
   "execution_count": null,
   "metadata": {
    "scrolled": false
   },
   "outputs": [],
   "source": [
    "for i in range(2,ORDER+1):\n",
    "    md = tossing(g, ORDER, i, md)\n",
    "    w.update_style(css_class_index=make_cell_widget_class_index(md, i))"
   ]
  }
 ],
 "metadata": {
  "kernelspec": {
   "display_name": "SageMath 8.9.rc0",
   "language": "sage",
   "name": "sagemath"
  },
  "language_info": {
   "codemirror_mode": {
    "name": "ipython",
    "version": 3
   },
   "file_extension": ".py",
   "mimetype": "text/x-python",
   "name": "python",
   "nbconvert_exporter": "python",
   "pygments_lexer": "ipython3",
   "version": "3.7.3"
  }
 },
 "nbformat": 4,
 "nbformat_minor": 2
}
