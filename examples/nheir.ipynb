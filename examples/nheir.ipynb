{
 "cells": [
  {
   "cell_type": "code",
   "execution_count": null,
   "metadata": {},
   "outputs": [],
   "source": [
    "from ipywidgets import *"
   ]
  },
  {
   "cell_type": "code",
   "execution_count": null,
   "metadata": {},
   "outputs": [],
   "source": [
    "# Objet exemple\n",
    "class ObjectWithClasses:\n",
    "    def __init__(self, values):\n",
    "        self.value = dict(values)\n",
    "\n",
    "    #def add_cell_class(self, cl) # Dans l'adapter ?\n",
    "    #    if cl not in self.cell_classes:\n",
    "    #        self.cell_classes.append(cl)\n",
    "            #self.apply_classes()\n",
    "\n",
    "    # fonction bas niveau pour rajouter du style aux cellules vérifiant la propriété `prop`\n",
    "    #def set_class_attr(self, cl, attr, value):\n",
    "    #    self.add_property(prop)\n",
    "    #    self.style_placeholder.set_class(self.cell_widget_class.css_classes + (prop.get_css_name(),), attr, value)\n",
    "\n"
   ]
  },
  {
   "cell_type": "code",
   "execution_count": null,
   "metadata": {},
   "outputs": [],
   "source": [
    "from sage_widget_adapters.generic_grid_view_adapter import GridViewAdapter\n",
    "from sage_combinat_widgets.grid_view_editor import GridViewEditor\n",
    "from sage_combinat_widgets import *\n",
    "ClOdd = CellClass('odd')\n",
    "ClMin = CellClass('min')\n",
    "ClInc = CellClass('diag_inc')\n",
    "ClType = CellClass('type') #, cond=lambda x: x == i) for i in range(4) ]"
   ]
  },
  {
   "cell_type": "code",
   "execution_count": null,
   "metadata": {},
   "outputs": [],
   "source": [
    "# Adapter pour l'objet exemple\n",
    "class ObjectGridViewAdapter(GridViewAdapter):\n",
    "    objclass = ObjectWithClasses\n",
    "    celltype = int\n",
    "    cellzero = False\n",
    "    \n",
    "    @staticmethod\n",
    "    def compute_cells(obj):\n",
    "        return obj.value\n",
    "    \n",
    "    # On définit ici les classes des cellules de l'objet\n",
    "    @staticmethod\n",
    "    def compute_cell_classes(obj):\n",
    "        values = obj.value\n",
    "\n",
    "        classes = {}\n",
    "\n",
    "        for i,j in values:\n",
    "            #print()\n",
    "            #print(i,j)\n",
    "            classes[i,j] = []\n",
    "            # cl1: valeur impaire\n",
    "            if values[i,j] & 1:\n",
    "                #print(\"odd ok\")\n",
    "                classes[i,j].append((ClOdd, True))\n",
    "            #print(classes[i,j])\n",
    "            \n",
    "            # cl2: minimum local\n",
    "            for x,y in ((0,1),(0,-1), (1,0), (-1,0)):\n",
    "                if (i+x,j+y) in values and values[i+x,j+y] < values[i,j]:\n",
    "                    break\n",
    "            else:\n",
    "                #print(\"min ok\")\n",
    "                classes[i,j].append((ClMin, True))\n",
    "\n",
    "            #print(classes[i,j])\n",
    "            \n",
    "            # cl3: plus petit que la valeur en bas à droite\n",
    "            if (i+1,j+1) in values and values[i+1,j+1] > values[i,j]:\n",
    "                #print(\"inc ok\")\n",
    "                classes[i,j].append((ClInc, True))\n",
    "\n",
    "            #print(classes[i,j])\n",
    "\n",
    "            # cl4: valeur entre 0 et 3, de paramètre la valeur en question\n",
    "            if 0 <= values[i,j] < 4:\n",
    "                #print(\"type ok\")\n",
    "                classes[i,j].append((ClType, values[i,j]))\n",
    "            #print(classes[i,j])\n",
    "\n",
    "        return classes\n",
    "    \n",
    "    @classmethod\n",
    "    def from_cells(self, cells):\n",
    "        return ObjectWithClasses(cells)\n",
    "\n",
    "    @staticmethod\n",
    "    def addable_cells(obj):\n",
    "        if obj.value:\n",
    "            w = max(i for i,j in obj.value)+1\n",
    "            h = max(j for i,j in obj.value)+1\n",
    "            return list(set((i,j) for i in range(w+1) for j in range(h+1)) - set(obj.value))\n",
    "        return [(0,0)]\n",
    "    \n",
    "    @staticmethod\n",
    "    def removable_cells(obj):\n",
    "        return list(obj.value)\n",
    "    \n",
    "    def add_cell(self, obj, pos, value, dirty={}):\n",
    "        obj = ObjectWithClasses(obj.value)\n",
    "        obj.value[pos] = value\n",
    "        return obj\n",
    "    \n",
    "    def remove_cell(self, obj, pos, dirty={}):\n",
    "        obj = ObjectWithClasses(obj.value)\n",
    "        del obj.value[pos]\n",
    "        return obj"
   ]
  },
  {
   "cell_type": "code",
   "execution_count": null,
   "metadata": {},
   "outputs": [],
   "source": [
    "%%html\n",
    "<style>\n",
    ".odd_7 { background-color: green }\n",
    ".min_7 { color: red }\n",
    "</style>\n",
    "<div class=\"odd_7\"><input type=\"text\"></div>\n",
    "<div class=\"min_7\"><input type=\"text\"></div>"
   ]
  },
  {
   "cell_type": "code",
   "execution_count": null,
   "metadata": {},
   "outputs": [],
   "source": [
    "from ipywidgets import *\n",
    "from sage_combinat_widgets.grid_view_widget import apply_css\n",
    "t1 = Text(_dom_classes=[\"min_7\"])\n",
    "apply_css(\".min_7 { background-color: pink }\")\n",
    "t1"
   ]
  },
  {
   "cell_type": "code",
   "execution_count": null,
   "metadata": {},
   "outputs": [],
   "source": [
    "t2 = t.add_class(\"min_7\")\n",
    "#t.add_class??\n",
    "t2._dom_classes\n",
    "t2"
   ]
  },
  {
   "cell_type": "code",
   "execution_count": null,
   "metadata": {},
   "outputs": [],
   "source": [
    "cell_layout = Layout(width='28px')\n",
    "obj = ObjectWithClasses({(0,0):1})\n",
    "g = GridViewWidget(obj, ObjectGridViewAdapter())\n",
    "g.update_style()\n",
    "set_cell_class_attr(ClOdd, 'background-color', 'green')\n",
    "set_cell_class_attr(ClMin, 'color', 'red')\n",
    "g"
   ]
  },
  {
   "cell_type": "code",
   "execution_count": null,
   "metadata": {},
   "outputs": [],
   "source": [
    "g.value = ObjectWithClasses( {(0,0):2,(0,1):5} )"
   ]
  },
  {
   "cell_type": "code",
   "execution_count": null,
   "metadata": {},
   "outputs": [],
   "source": [
    "#g.__dict__"
   ]
  },
  {
   "cell_type": "code",
   "execution_count": null,
   "metadata": {},
   "outputs": [],
   "source": [
    "%%html\n",
    "<style>\n",
    ".odd_7FF6D1A48750 { background-color:green }\n",
    ".min_7FF6D1A48750 { color:red }\n",
    "</style>"
   ]
  },
  {
   "cell_type": "code",
   "execution_count": null,
   "metadata": {},
   "outputs": [],
   "source": [
    "#for cl in ClTypes + [ClOdd, ClMin, ClInc]:\n",
    "#    g.add_class_to_cell(cl)\n",
    "#classes = g.get_cell_classes() # interrogera l'adapter\n",
    "g.update_style()\n",
    "set_cell_class_attr(ClOdd, 'background-color', 'green')\n",
    "set_cell_class_attr(ClMin, 'color', 'red')"
   ]
  },
  {
   "cell_type": "code",
   "execution_count": null,
   "metadata": {},
   "outputs": [],
   "source": [
    "from sage.all import ParallelogramPolyomino, DyckWords\n",
    "from sage_widget_adapters.combinat.parallelogram_polyomino_grid_view_adapter import ParallelogramPolyominoGridViewAdapter"
   ]
  },
  {
   "cell_type": "code",
   "execution_count": null,
   "metadata": {},
   "outputs": [],
   "source": [
    "class ParallelogramPolyominoAdapter(ParallelogramPolyominoGridViewAdapter):\n",
    "    @staticmethod\n",
    "    def get_bounce_cells_from_pp(pp):\n",
    "        ret = []\n",
    "        x,y = 0,-1\n",
    "        for i,v in enumerate(pp.bounce_path()):\n",
    "            dx,dy = (1,0) if i & 1 else (0,1) \n",
    "            for j in range(v):\n",
    "                x,y = x+dx, y+dy\n",
    "                ret.append((i,(x,y)))\n",
    "        return ret\n",
    "    \n",
    "    @staticmethod\n",
    "    def get_properties(obj):\n",
    "        props = {}\n",
    "        \n",
    "        # Values of the bounce path\n",
    "        for i,pos in ParallelogramPolyominoAdapter.get_bounce_cells_from_pp(obj):\n",
    "            props[pos] = [('bounce0', True)]\n",
    "\n",
    "        return props"
   ]
  },
  {
   "cell_type": "code",
   "execution_count": null,
   "metadata": {},
   "outputs": [],
   "source": [
    "pp = ParallelogramPolyomino.from_dyck_word(DyckWords(10).random_element())"
   ]
  },
  {
   "cell_type": "code",
   "execution_count": null,
   "metadata": {},
   "outputs": [],
   "source": [
    "gp = GridViewWidget(pp, ParallelogramPolyominoAdapter(), cell_layout=cell_layout, \n",
    "                    cell_widget_class=DisabledButton, \n",
    "                    addable_widget_class=AddableButton)"
   ]
  },
  {
   "cell_type": "code",
   "execution_count": null,
   "metadata": {},
   "outputs": [],
   "source": [
    "gp"
   ]
  },
  {
   "cell_type": "code",
   "execution_count": null,
   "metadata": {},
   "outputs": [],
   "source": [
    "PropBounce = Property('bounce0')\n",
    "gp.add_property(PropBounce)\n",
    "gp.set_property_attr(PropBounce, 'background-color', 'red')"
   ]
  },
  {
   "cell_type": "code",
   "execution_count": null,
   "metadata": {},
   "outputs": [],
   "source": [
    "gp.set_cell_layout(Layout(width='22px', height='22px'))"
   ]
  },
  {
   "cell_type": "code",
   "execution_count": null,
   "metadata": {},
   "outputs": [],
   "source": []
  }
 ],
 "metadata": {
  "kernelspec": {
   "display_name": "Python 3",
   "language": "python",
   "name": "python3"
  },
  "language_info": {
   "codemirror_mode": {
    "name": "ipython",
    "version": 3
   },
   "file_extension": ".py",
   "mimetype": "text/x-python",
   "name": "python",
   "nbconvert_exporter": "python",
   "pygments_lexer": "ipython3",
   "version": "3.7.3"
  }
 },
 "nbformat": 4,
 "nbformat_minor": 2
}
